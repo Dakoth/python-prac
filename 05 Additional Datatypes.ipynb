{
 "cells": [
  {
   "cell_type": "markdown",
   "source": [
    "# Python Datatypes"
   ],
   "metadata": {
    "slideshow": {
     "slide_type": "slide"
    }
   }
  },
  {
   "cell_type": "markdown",
   "source": [
    "## Lists\n",
    "* Ordered - once created, order of items does not change\n",
    "* Comma-separated values in []\n",
    "* Types can be mixed, but typically homogeneous\n",
    "* Indexable by 0-based index\n",
    "* Can use `+` to concatenate lists"
   ],
   "metadata": {
    "slideshow": {
     "slide_type": "subslide"
    }
   }
  },
  {
   "cell_type": "code",
   "execution_count": 1,
   "source": [
    "years = [1620, 1215, 1812, 1941]\n",
    "weird_list = [1, 'two', (3, 4), False]\n",
    "print(years[1], weird_list[2])\n",
    "both = years + weird_list\n",
    "print(len(both))\n",
    "print(both[-3])     # negative number indexes from end of list"
   ],
   "outputs": [
    {
     "output_type": "stream",
     "name": "stdout",
     "text": [
      "1215 (3, 4)\n",
      "8\n",
      "two\n"
     ]
    }
   ],
   "metadata": {}
  },
  {
   "cell_type": "markdown",
   "source": [
    "## List operations\n",
    "\n",
    "To create empty list, use `[]` or `list()` (`[]` is more idomatic)\n",
    "\n",
    "|Operation|Description|\n",
    "|---------|-----------|\n",
    "|append()|Used to add single element to end of list|\n",
    "|extend()|Used to add multiple elements to end of list|\n",
    "|insert()|Used to insert a single element at specific position in list|\n",
    "|remove()|Used to remove element from list by value|\n",
    "|pop()|Used to remove element from any position in list|\n",
    "|reverse()|Used to reverse elements in a list|\n",
    "|len()|Returns length of list|\n",
    "|min()|Returns minimum value (requires list of all same type)|\n",
    "|max()|Returns maximum value (requires list of all same type)|\n",
    "|count()|Returns number of occurrences an element value in list|\n",
    "|index()|Returns position of first occurrence of element in list|\n",
    "|sort()|Sorts list in ascending order|\n",
    "|clear()|Empties list of all elements|\n",
    "|copy()|Performs \"shallow\" copy of a list|"
   ],
   "metadata": {}
  },
  {
   "cell_type": "code",
   "execution_count": 2,
   "source": [
    "fruits = ['banana', 'apple', 'orange', 'lime']\n",
    "print(fruits)\n",
    "fruits.append('lemon')\n",
    "fruits.extend(['grape', 'strawberry'])\n",
    "print(fruits)\n",
    "fruits.insert(2, 'lime')\n",
    "print(fruits)\n",
    "fruits.remove('lime')\n",
    "print(fruits)\n",
    "# fruits.remove('papaya')\n",
    "new_fruits = fruits\n",
    "new_fruits[3] = 'mango'\n",
    "print(fruits)\n",
    "copy_fruits = fruits.copy()\n",
    "copy_fruits[3] = 'dragonfruit'\n",
    "print(fruits)\n",
    "print(copy_fruits)"
   ],
   "outputs": [
    {
     "output_type": "stream",
     "name": "stdout",
     "text": [
      "['banana', 'apple', 'orange', 'lime']\n",
      "['banana', 'apple', 'orange', 'lime', 'lemon', 'grape', 'strawberry']\n",
      "['banana', 'apple', 'lime', 'orange', 'lime', 'lemon', 'grape', 'strawberry']\n",
      "['banana', 'apple', 'orange', 'lime', 'lemon', 'grape', 'strawberry']\n",
      "['banana', 'apple', 'orange', 'mango', 'lemon', 'grape', 'strawberry']\n",
      "['banana', 'apple', 'orange', 'mango', 'lemon', 'grape', 'strawberry']\n",
      "['banana', 'apple', 'orange', 'dragonfruit', 'lemon', 'grape', 'strawberry']\n"
     ]
    }
   ],
   "metadata": {}
  },
  {
   "cell_type": "markdown",
   "source": [
    "## Slicing operator\n",
    "\n",
    "* Provides access to sub-section of list\n",
    "* Uses `<list name>[s:e]` to specify start and end\n",
    "* Returns element at start through element up to (but not including) end\n",
    "* `[:]` used to access all items - both start and end are optional\n",
    "* Can be used for both retrieve and update of list items\n",
    "* Also works with strings"
   ],
   "metadata": {}
  },
  {
   "cell_type": "code",
   "execution_count": 3,
   "source": [
    "fruits = ['banana', 'apple', 'orange', 'lime']\n",
    "print(fruits[1:4])\n",
    "fruits[2:4] = ['mango', 'papaya', 'lemon']\n",
    "print(fruits)\n",
    "print(fruits[:3])\n",
    "print(fruits[1:])\n",
    "print(fruits[:])\n",
    "print('Hello World'[3:5])\n",
    "copy = fruits[:]        # optional mechanism to create shallow copy\n",
    "copy[1] = 'grape'\n",
    "print(fruits)\n",
    "print(copy)"
   ],
   "outputs": [
    {
     "output_type": "stream",
     "name": "stdout",
     "text": [
      "['apple', 'orange', 'lime']\n",
      "['banana', 'apple', 'mango', 'papaya', 'lemon']\n",
      "['banana', 'apple', 'mango']\n",
      "['apple', 'mango', 'papaya', 'lemon']\n",
      "['banana', 'apple', 'mango', 'papaya', 'lemon']\n",
      "lo\n",
      "['banana', 'apple', 'mango', 'papaya', 'lemon']\n",
      "['banana', 'grape', 'mango', 'papaya', 'lemon']\n"
     ]
    }
   ],
   "metadata": {}
  },
  {
   "cell_type": "markdown",
   "source": [
    "## Tuples\n",
    "* Immutable\n",
    "* Generally imply some structure\n",
    "* One tuple generally describes one object (person, building, country, etc.)\n",
    "* Parens not required when declaring"
   ],
   "metadata": {
    "slideshow": {
     "slide_type": "subslide"
    }
   }
  },
  {
   "cell_type": "code",
   "execution_count": 4,
   "source": [
    "t = 'Gutzon Borglum', 'Idaho', 1867\n",
    "print(t)\n",
    "# t[1] = 'Montana'      NO - immutable\n",
    "print(t[1])\n",
    "location, state, year = t\n",
    "print(location,state,year)"
   ],
   "outputs": [
    {
     "output_type": "stream",
     "name": "stdout",
     "text": [
      "('Gutzon Borglum', 'Idaho', 1867)\n",
      "Idaho\n",
      "Gutzon Borglum Idaho 1867\n"
     ]
    }
   ],
   "metadata": {}
  },
  {
   "cell_type": "code",
   "execution_count": 5,
   "source": [
    "# empty tuple\n",
    "t = ()\n",
    "print(t)\n",
    "# singleton tuple\n",
    "t = 1,\n",
    "print(t)"
   ],
   "outputs": [
    {
     "output_type": "stream",
     "name": "stdout",
     "text": [
      "()\n",
      "(1,)\n"
     ]
    }
   ],
   "metadata": {
    "slideshow": {
     "slide_type": "subslide"
    }
   }
  },
  {
   "cell_type": "code",
   "execution_count": 6,
   "source": [
    "# use case for a singleton tuple: concatenation\n",
    "t + (2,)"
   ],
   "outputs": [
    {
     "output_type": "execute_result",
     "data": {
      "text/plain": [
       "(1, 2)"
      ]
     },
     "metadata": {},
     "execution_count": 6
    }
   ],
   "metadata": {}
  },
  {
   "cell_type": "code",
   "execution_count": 7,
   "source": [
    "# another use case for singleton tuple:\n",
    "# enables you to pass a single value to a function which takes an iterable\n",
    "def func(iter):\n",
    "    for item in iter:\n",
    "        print(item, end=' ')\n",
    "    print()\n",
    "        \n",
    "func('hello')\n",
    "func((9,))\n",
    "# func(9)"
   ],
   "outputs": [
    {
     "output_type": "stream",
     "name": "stdout",
     "text": [
      "h e l l o \n",
      "9 \n"
     ]
    }
   ],
   "metadata": {
    "slideshow": {
     "slide_type": "subslide"
    }
   }
  },
  {
   "cell_type": "markdown",
   "source": [
    "## Sets\n",
    "* unordered\n",
    "* no duplicates"
   ],
   "metadata": {
    "slideshow": {
     "slide_type": "subslide"
    }
   }
  },
  {
   "cell_type": "code",
   "execution_count": 8,
   "source": [
    "t = set()\n",
    "type(t)"
   ],
   "outputs": [
    {
     "output_type": "execute_result",
     "data": {
      "text/plain": [
       "set"
      ]
     },
     "metadata": {},
     "execution_count": 8
    }
   ],
   "metadata": {
    "slideshow": {
     "slide_type": "-"
    }
   }
  },
  {
   "cell_type": "code",
   "execution_count": 9,
   "source": [
    "even = { 2, 4, 6 }\n",
    "print(even)\n",
    "even.add(8)\n",
    "even.add(2)\n",
    "print(even)"
   ],
   "outputs": [
    {
     "output_type": "stream",
     "name": "stdout",
     "text": [
      "{2, 4, 6}\n",
      "{8, 2, 4, 6}\n"
     ]
    }
   ],
   "metadata": {}
  },
  {
   "cell_type": "code",
   "execution_count": 10,
   "source": [
    "prime = set([int(x) for x in '2357'])\n",
    "print(prime)\n",
    "print('all numbers =', prime | even)\n",
    "print('even primes =', prime & even)\n"
   ],
   "outputs": [
    {
     "output_type": "stream",
     "name": "stdout",
     "text": [
      "{2, 3, 5, 7}\n",
      "all numbers = {2, 3, 4, 5, 6, 7, 8}\n",
      "even primes = {2}\n"
     ]
    }
   ],
   "metadata": {}
  },
  {
   "cell_type": "markdown",
   "source": [
    "* `add()` can be used to add a single item to set\n",
    "* `update()` can be used to add multiple items to set\n",
    "* `remove()` can be used to remove item; raises KeyError if absent\n",
    "* `discard()` removes item if it exists"
   ],
   "metadata": {}
  },
  {
   "cell_type": "markdown",
   "source": [
    "## Dictionaries\n",
    "* unordered list of key/value pairs\n",
    "* associative array, hash, etc."
   ],
   "metadata": {
    "slideshow": {
     "slide_type": "subslide"
    }
   }
  },
  {
   "cell_type": "code",
   "execution_count": 11,
   "source": [
    "d = { 'red': 0, 'blue': 1, 'green': 2 }\n",
    "d['blue'] = 9\n",
    "d['yellow'] = -1\n",
    "print(d)"
   ],
   "outputs": [
    {
     "output_type": "stream",
     "name": "stdout",
     "text": [
      "{'red': 0, 'blue': 9, 'green': 2, 'yellow': -1}\n"
     ]
    }
   ],
   "metadata": {}
  },
  {
   "cell_type": "code",
   "execution_count": 12,
   "source": [
    "d = {}\n",
    "d['tall'] = 12\n",
    "d['grande'] = 16\n",
    "d['venti'] = 20\n",
    "print(d)"
   ],
   "outputs": [
    {
     "output_type": "stream",
     "name": "stdout",
     "text": [
      "{'tall': 12, 'grande': 16, 'venti': 20}\n"
     ]
    }
   ],
   "metadata": {}
  },
  {
   "cell_type": "code",
   "execution_count": 13,
   "source": [
    "print('keys are', d.keys())\n",
    "print('values are', d.values())\n",
    "print('items are', d.items())"
   ],
   "outputs": [
    {
     "output_type": "stream",
     "name": "stdout",
     "text": [
      "keys are dict_keys(['tall', 'grande', 'venti'])\n",
      "values are dict_values([12, 16, 20])\n",
      "items are dict_items([('tall', 12), ('grande', 16), ('venti', 20)])\n"
     ]
    }
   ],
   "metadata": {}
  },
  {
   "cell_type": "code",
   "execution_count": 14,
   "source": [
    "keys = list(d.keys())\n",
    "print(keys)"
   ],
   "outputs": [
    {
     "output_type": "stream",
     "name": "stdout",
     "text": [
      "['tall', 'grande', 'venti']\n"
     ]
    }
   ],
   "metadata": {}
  },
  {
   "cell_type": "code",
   "execution_count": 15,
   "source": [
    "d_keys = d.keys()\n",
    "# now add to the dict...\n",
    "d['trenta'] = 31\n",
    "print(keys)\n",
    "print(d_keys)"
   ],
   "outputs": [
    {
     "output_type": "stream",
     "name": "stdout",
     "text": [
      "['tall', 'grande', 'venti']\n",
      "dict_keys(['tall', 'grande', 'venti', 'trenta'])\n"
     ]
    }
   ],
   "metadata": {}
  },
  {
   "cell_type": "markdown",
   "source": [
    "* If element at requested index does not exist, `[]` access will cause error\n",
    "* Can use `in` operator to check for existence before accessing\n",
    "* Or use `get()` method to do both in single statement\n",
    "* `del()` can be used to delete an element"
   ],
   "metadata": {}
  },
  {
   "cell_type": "code",
   "execution_count": 16,
   "source": [
    "# print(d['large'])\n",
    "if 'large' in d:\n",
    "    print(d['large'])\n",
    "else:\n",
    "    print('unknown')\n",
    "print(d.get('large', 'default'))\n",
    "print(d)\n",
    "del d['trenta']\n",
    "print(d)"
   ],
   "outputs": [
    {
     "output_type": "stream",
     "name": "stdout",
     "text": [
      "unknown\n",
      "default\n",
      "{'tall': 12, 'grande': 16, 'venti': 20, 'trenta': 31}\n",
      "{'tall': 12, 'grande': 16, 'venti': 20}\n"
     ]
    }
   ],
   "metadata": {}
  },
  {
   "cell_type": "markdown",
   "source": [
    "## Exercise One\n",
    "\n",
    "* Write a function called `minmaxavg` which accepts a float list and returns 3 values:\n",
    "    - Minimum value in list\n",
    "    - Maximum value in list\n",
    "    - Average of all values in list\n",
    "* Prompt the user for number of values\n",
    "* In a loop, prompt the user for each float value and build into a list\n",
    "* Pass list to `minmaxavg` and display results"
   ],
   "metadata": {}
  },
  {
   "cell_type": "markdown",
   "source": [
    "## Exercise Two\n",
    "\n",
    "* Write a function called `fibonacci` that accepts an integer that is greater than 2\n",
    "* This integer will represent the number of Fibonacci numbers the user is requesting\n",
    "* Fibonacci numbers are: 1, 1, 2, 3, 5, 8, 13, 21, 34, 55, ...\n",
    "* Each new number is the sum of the previous two\n",
    "* Build a list of the requested set of numbers in the function, return from function, and print"
   ],
   "metadata": {}
  },
  {
   "cell_type": "markdown",
   "source": [
    "## Exercise Three\n",
    "\n",
    "* Create a Python programmer that allows you to convert from Roman numeral to Arabic equivalent\n",
    "* M: 1000, D: 500, C: 100, L: 50, X: 10, V: 5, I: 1\n",
    "* MCLX = 1000 + 100 + 50 + 10 = 1160\n",
    "* Prompt user for Roman numeral, convert to Arabic, and print result\n",
    "* EXTRA: If you have time, deal with case where smaller number precedes a larger number (MCMLCIX = 1000 + (1000 - 100) + (100 - 50) + (10 - 1) = 1959"
   ],
   "metadata": {}
  },
  {
   "cell_type": "markdown",
   "source": [
    "## Exercise Four (If Time Permits)\n",
    "\n",
    "* Create four calculator functions: addition, subtraction, multiplication, division\n",
    "* Each function should take 2 integers and return an integer result\n",
    "* Use a dictionary to map the strings representing the operators to the functions\n",
    "* That is, \"+\" would be mapped to addition(), \"-\" would be mapped to subtraction()...\n",
    "* Have your program read in lines like \"2 + 4\" and have it determine the result by parsing the line and then using the operator (\"+\" in this case) to find the appropriate function to invoke\n",
    "* Call the function and output the result\n",
    "* Hint: Functions are also objects in Python"
   ],
   "metadata": {}
  }
 ],
 "metadata": {
  "celltoolbar": "Slideshow",
  "interpreter": {
   "hash": "8464311b6cd02531cc83d752491de256d0b522e7c388c7b72d58a29deff5d2dd"
  },
  "kernelspec": {
   "display_name": "Python 3 (ipykernel)",
   "language": "python",
   "name": "python3"
  },
  "language_info": {
   "codemirror_mode": {
    "name": "ipython",
    "version": 3
   },
   "file_extension": ".py",
   "mimetype": "text/x-python",
   "name": "python",
   "nbconvert_exporter": "python",
   "pygments_lexer": "ipython3",
   "version": "3.8.10"
  }
 },
 "nbformat": 4,
 "nbformat_minor": 1
}