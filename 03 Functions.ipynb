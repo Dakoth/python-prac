{
 "cells": [
  {
   "cell_type": "markdown",
   "source": [
    "# Python Functions"
   ],
   "metadata": {
    "slideshow": {
     "slide_type": "slide"
    }
   }
  },
  {
   "cell_type": "markdown",
   "source": [
    "## Functions\n",
    "\n",
    "* Starts with keyword `def`\n",
    "* Function is given a name\n",
    "* Can include zero or more parameters for passing data in\n",
    "* To invoke, use name + arguments in parenthese"
   ],
   "metadata": {
    "slideshow": {
     "slide_type": "subslide"
    }
   }
  },
  {
   "cell_type": "code",
   "execution_count": 5,
   "source": [
    "def myfunc(x):\n",
    "    print('do something', x)\n",
    "    if x == 1:\n",
    "        return True\n",
    "    else:\n",
    "        return 'abc'\n",
    "    \n",
    "print(myfunc(2))"
   ],
   "outputs": [
    {
     "output_type": "stream",
     "name": "stdout",
     "text": [
      "do something 2\n",
      "abc\n"
     ]
    }
   ],
   "metadata": {}
  },
  {
   "cell_type": "markdown",
   "source": [
    "## Documentation strings\n",
    "\n",
    "* Often functions will include documentation strings as first statement\n",
    "* Provides info about the function's intent\n",
    "* Can be used to feed the `help()` command "
   ],
   "metadata": {}
  },
  {
   "cell_type": "code",
   "execution_count": 1,
   "source": [
    "def calc_subtotal(quantity, unit_cost):\n",
    "    '''\n",
    "    Computes subtotal for an order\n",
    "    '''\n",
    "    return quantity * unit_cost\n",
    "\n",
    "help(calc_subtotal)"
   ],
   "outputs": [
    {
     "output_type": "stream",
     "name": "stdout",
     "text": [
      "Help on function calc_subtotal in module __main__:\n",
      "\n",
      "calc_subtotal(quantity, unit_cost)\n",
      "    Computes subtotal for an order\n",
      "\n"
     ]
    }
   ],
   "metadata": {}
  },
  {
   "cell_type": "markdown",
   "source": [
    "## ...functions return __`None`__ if return not invoked"
   ],
   "metadata": {}
  },
  {
   "cell_type": "code",
   "execution_count": 7,
   "source": [
    "def myfunc(x):\n",
    "    print('do something', x)\n",
    "\n",
    "print(myfunc(35))"
   ],
   "outputs": [
    {
     "output_type": "stream",
     "name": "stdout",
     "text": [
      "do something 35\n",
      "None\n"
     ]
    }
   ],
   "metadata": {
    "scrolled": true
   }
  },
  {
   "cell_type": "markdown",
   "source": [
    "## What is __`None`__?\n",
    "* It acts like __`False`__, but it's a different object"
   ],
   "metadata": {}
  },
  {
   "cell_type": "code",
   "execution_count": 3,
   "source": [
    "def myfunc(x):\n",
    "    print('do something', x)\n",
    "\n",
    "retval = myfunc(2)\n",
    "if retval:\n",
    "    print('True branch of if')\n",
    "else:\n",
    "    print('False branch of if')"
   ],
   "outputs": [
    {
     "output_type": "stream",
     "name": "stdout",
     "text": [
      "do something 2\n",
      "False branch of if\n"
     ]
    }
   ],
   "metadata": {}
  },
  {
   "cell_type": "code",
   "execution_count": 5,
   "source": [
    "def myfunc(x):\n",
    "    print('do something', x)\n",
    "\n",
    "retval = myfunc(2)\n",
    "\n",
    "if retval is None:\n",
    "    print('preferred over retval == None')\n",
    "if None is False:\n",
    "    print('no!')\n",
    "id(None), id(False)"
   ],
   "outputs": [
    {
     "output_type": "stream",
     "name": "stdout",
     "text": [
      "do something 2\n",
      "preferred over retval == None\n"
     ]
    },
    {
     "output_type": "execute_result",
     "data": {
      "text/plain": [
       "(9484816, 9474016)"
      ]
     },
     "metadata": {},
     "execution_count": 5
    }
   ],
   "metadata": {}
  },
  {
   "cell_type": "markdown",
   "source": [
    "## Scope \n",
    "* Python is _NOT_ block scoped"
   ],
   "metadata": {
    "slideshow": {
     "slide_type": "subslide"
    }
   }
  },
  {
   "cell_type": "code",
   "execution_count": 6,
   "source": [
    "if True:\n",
    "    x = 'global x' # x will persist outside this block\n",
    "\n",
    "print(\"outside the block, x =\", x)\n",
    "\n",
    "def func():\n",
    "    print(\"---> in func\")\n",
    "    x = 'func x' # declare var inside function\n",
    "    print(\"x =\", x)\n",
    "    d = locals()\n",
    "    print(\"local x =\", d['x'])\n",
    "    d = globals()\n",
    "    print(\"global x =\", d['x'])\n",
    "    print(\"---> leaving func\")\n",
    "\n",
    "func()\n",
    "\n",
    "print(\"in main, after func call, x =\", x)\n",
    "\n",
    "def func():\n",
    "    print(\"---> inside second func\")\n",
    "    # can access global variables here\n",
    "    # print(\"x =\", x)\n",
    "    # ...but to change them, we need to bind\n",
    "    # the name 'x' to the global var instead\n",
    "    # of a new local var...\n",
    "    global x\n",
    "    x = 'new global x'\n",
    "    print(\"x =\", x)\n",
    "    print(\"---> leaving second func, x =\", x)\n",
    "\n",
    "func()\n",
    "print(\"in main, after second func call, x =\", x)"
   ],
   "outputs": [
    {
     "output_type": "stream",
     "name": "stdout",
     "text": [
      "outside the block, x = global x\n",
      "---> in func\n",
      "x = func x\n",
      "local x = func x\n",
      "global x = global x\n",
      "---> leaving func\n",
      "in main, after func call, x = global x\n",
      "---> inside second func\n",
      "x = new global x\n",
      "---> leaving second func, x = new global x\n",
      "in main, after second func call, x = new global x\n"
     ]
    }
   ],
   "metadata": {
    "slideshow": {
     "slide_type": "subslide"
    }
   }
  },
  {
   "cell_type": "markdown",
   "source": [
    "## Returning values from a function\n",
    "\n",
    "* In Python, you can return multiple values from a function\n",
    "* Wrap the return values in `()` and separate each with a comma\n",
    "* Returns what's known as a `tuple` in Python"
   ],
   "metadata": {}
  },
  {
   "cell_type": "code",
   "execution_count": 8,
   "source": [
    "def addmul(op1, op2):\n",
    "    return (op1 + op2, op1 * op2)\n",
    "\n",
    "sum, product = addmul(2.75, 13.2)\n",
    "print(sum)\n",
    "print(product)"
   ],
   "outputs": [
    {
     "output_type": "stream",
     "name": "stdout",
     "text": [
      "15.95\n",
      "36.3\n"
     ]
    }
   ],
   "metadata": {}
  },
  {
   "cell_type": "markdown",
   "source": [
    "## Parameter default values\n",
    "\n",
    "* To give a parameter a default value, use assignment\n",
    "* Parameters given defaults can be omitted from calls to function\n",
    "* Omitted arguments will take on default value\n",
    "* When calling, arguments can be named - can help with readability"
   ],
   "metadata": {}
  },
  {
   "cell_type": "code",
   "execution_count": 12,
   "source": [
    "def connect(hostname, port, timeout = 300):\n",
    "    '''\n",
    "    Simulates connectivity to a host on a port \n",
    "    '''\n",
    "    print('Hitting...', end = '')\n",
    "    print(f'{hostname}:{port}...', end = '')\n",
    "    print(f'Finish before {timeout} milliseconds!!')\n",
    "    return\n",
    "\n",
    "connect('www.python.org', 80)\n",
    "connect('www.python.org', 80, 500)\n",
    "connect(timeout = 1000, hostname = 'www.python.org', port = 443)  # when named, order doesn't matter"
   ],
   "outputs": [
    {
     "output_type": "stream",
     "name": "stdout",
     "text": [
      "Hitting...www.python.org:80...Finish before 300 milliseconds!!\n",
      "Hitting...www.python.org:80...Finish before 500 milliseconds!!\n",
      "Hitting...www.python.org:443...Finish before 1000 milliseconds!!\n"
     ]
    }
   ],
   "metadata": {}
  },
  {
   "cell_type": "markdown",
   "source": [
    "## Exercise One\n",
    "\n",
    "* Update your Python program for order processing\n",
    "* Create a function to handle the calculations\n",
    "* Call the function, passing the inputs from the user\n",
    "* Fully encapsulate the discount algorithm and calculations within the function\n",
    "* Return subtotal, total including tax, and final total after discount from the function\n"
   ],
   "metadata": {}
  },
  {
   "cell_type": "markdown",
   "source": [
    "## Exercise Two\n",
    "\n",
    "* Create a function called circleinfo for calculating area and circumference of a circle\n",
    "* The function should accept a parameter for radius\n",
    "* Return area and circumference from the function\n",
    "* Area is calculated as Pi * radius * radius\n",
    "* Circumference is calculated as 2 * Pi * radius\n",
    "* **Hint**: Use math.pi() to get the value for Pi in the formulae (https://www.delftstack.com/howto/python/pi-in-python/#:~:text=Use%20Pi%20in%20Python.%201%20Use%20the%20math.pi,to%20Get%20the%20Pi%20Value%20in%20Python.%20)"
   ],
   "metadata": {}
  }
 ],
 "metadata": {
  "celltoolbar": "Slideshow",
  "kernelspec": {
   "name": "python3",
   "display_name": "Python 3.8.10 64-bit ('py-yield-Jt80a98q': venv)"
  },
  "language_info": {
   "codemirror_mode": {
    "name": "ipython",
    "version": 3
   },
   "file_extension": ".py",
   "mimetype": "text/x-python",
   "name": "python",
   "nbconvert_exporter": "python",
   "pygments_lexer": "ipython3",
   "version": "3.8.10"
  },
  "interpreter": {
   "hash": "8464311b6cd02531cc83d752491de256d0b522e7c388c7b72d58a29deff5d2dd"
  }
 },
 "nbformat": 4,
 "nbformat_minor": 1
}