{
 "cells": [
  {
   "cell_type": "markdown",
   "source": [
    "# Object-Oriented Programming (Part 2)"
   ],
   "metadata": {
    "slideshow": {
     "slide_type": "slide"
    }
   }
  },
  {
   "cell_type": "markdown",
   "source": [
    "## Object-Oriented Programming (Part 2)\n",
    "* Now that we've looked at decorators, we can delve deeper into object-oriented programming"
   ],
   "metadata": {
    "slideshow": {
     "slide_type": "slide"
    }
   }
  },
  {
   "cell_type": "code",
   "execution_count": 1,
   "source": [
    "class Duck:\n",
    "    def __init__(self, name):\n",
    "        self.hidden_name = name\n",
    "        \n",
    "    def get_name(self):\n",
    "        '''getter for name attribute'''\n",
    "        print('Inside the getter')\n",
    "        return self.hidden_name\n",
    "\n",
    "    def set_name(self, val):\n",
    "        '''setter for name attribute'''\n",
    "        print('Inside the setter')\n",
    "        self.hidden_name = val\n",
    "    \n",
    "    # the property() class returns a special descriptor object\n",
    "    name = property(get_name, set_name)"
   ],
   "outputs": [],
   "metadata": {}
  },
  {
   "cell_type": "code",
   "execution_count": 2,
   "source": [
    "property()"
   ],
   "outputs": [
    {
     "output_type": "execute_result",
     "data": {
      "text/plain": [
       "<property at 0x7f4815f24810>"
      ]
     },
     "metadata": {},
     "execution_count": 2
    }
   ],
   "metadata": {}
  },
  {
   "cell_type": "code",
   "execution_count": 3,
   "source": [
    "property().getter"
   ],
   "outputs": [
    {
     "output_type": "execute_result",
     "data": {
      "text/plain": [
       "<function property.getter>"
      ]
     },
     "metadata": {},
     "execution_count": 3
    }
   ],
   "metadata": {}
  },
  {
   "cell_type": "code",
   "execution_count": 4,
   "source": [
    "property().setter"
   ],
   "outputs": [
    {
     "output_type": "execute_result",
     "data": {
      "text/plain": [
       "<function property.setter>"
      ]
     },
     "metadata": {},
     "execution_count": 4
    }
   ],
   "metadata": {}
  },
  {
   "cell_type": "code",
   "execution_count": 5,
   "source": [
    "fowl = Duck('Donald')"
   ],
   "outputs": [],
   "metadata": {}
  },
  {
   "cell_type": "code",
   "execution_count": 6,
   "source": [
    "fowl.name = 'foo' # invokes the set_name function"
   ],
   "outputs": [
    {
     "output_type": "stream",
     "name": "stdout",
     "text": [
      "Inside the setter\n"
     ]
    }
   ],
   "metadata": {}
  },
  {
   "cell_type": "code",
   "execution_count": 7,
   "source": [
    "fowl.get_name()"
   ],
   "outputs": [
    {
     "output_type": "stream",
     "name": "stdout",
     "text": [
      "Inside the getter\n"
     ]
    },
    {
     "output_type": "execute_result",
     "data": {
      "text/plain": [
       "'foo'"
      ]
     },
     "metadata": {},
     "execution_count": 7
    }
   ],
   "metadata": {}
  },
  {
   "cell_type": "code",
   "execution_count": 8,
   "source": [
    "fowl.name = 'Daffy'\n",
    "fowl.name"
   ],
   "outputs": [
    {
     "output_type": "stream",
     "name": "stdout",
     "text": [
      "Inside the setter\n",
      "Inside the getter\n"
     ]
    },
    {
     "output_type": "execute_result",
     "data": {
      "text/plain": [
       "'Daffy'"
      ]
     },
     "metadata": {},
     "execution_count": 8
    }
   ],
   "metadata": {}
  },
  {
   "cell_type": "code",
   "execution_count": 9,
   "source": [
    "class Duck:\n",
    "    def __init__(self, name):\n",
    "        self._hidden_name = name\n",
    "        \n",
    "    @property\n",
    "    def name(self): #\n",
    "        '''getter for name attribute'''\n",
    "        print('Inside the getter')\n",
    "        return self._hidden_name\n",
    "    \n",
    "    #name = property(name)\n",
    "    \n",
    "    @name.setter\n",
    "    def name(self, val):\n",
    "        '''setter for name attribute'''\n",
    "        print('Inside the setter')\n",
    "        self._hidden_name = val"
   ],
   "outputs": [],
   "metadata": {}
  },
  {
   "cell_type": "code",
   "execution_count": 10,
   "source": [
    "fowl = Duck('Donald')\n",
    "fowl.name # we no longer have get_name and set_name functions"
   ],
   "outputs": [
    {
     "output_type": "stream",
     "name": "stdout",
     "text": [
      "Inside the getter\n"
     ]
    },
    {
     "output_type": "execute_result",
     "data": {
      "text/plain": [
       "'Donald'"
      ]
     },
     "metadata": {},
     "execution_count": 10
    }
   ],
   "metadata": {}
  },
  {
   "cell_type": "code",
   "execution_count": 11,
   "source": [
    "# but hidden_name can still be accessed from outside\n",
    "fowl.name = 'Marc'\n",
    "fowl.name, fowl._hidden_name"
   ],
   "outputs": [
    {
     "output_type": "stream",
     "name": "stdout",
     "text": [
      "Inside the setter\n",
      "Inside the getter\n"
     ]
    },
    {
     "output_type": "execute_result",
     "data": {
      "text/plain": [
       "('Marc', 'Marc')"
      ]
     },
     "metadata": {},
     "execution_count": 11
    }
   ],
   "metadata": {}
  },
  {
   "cell_type": "code",
   "execution_count": 12,
   "source": [
    "class Duck():\n",
    "    def __init__(self, name):\n",
    "        # data which is intended to be truly private can be preceded with \"dunder\"\n",
    "        self.__name = name\n",
    "        \n",
    "    @property\n",
    "    def name(self):\n",
    "        '''getter for name attribute'''\n",
    "        print('hi')\n",
    "        return self.__name\n",
    "    \n",
    "    # name = property(name)\n",
    "    \n",
    "    @name.setter\n",
    "    def name(self, val):\n",
    "        '''setter for name attribute'''\n",
    "        self.__name = val\n"
   ],
   "outputs": [],
   "metadata": {}
  },
  {
   "cell_type": "code",
   "execution_count": 13,
   "source": [
    "d = Duck('Donald')\n",
    "d.name"
   ],
   "outputs": [
    {
     "output_type": "stream",
     "name": "stdout",
     "text": [
      "hi\n"
     ]
    },
    {
     "output_type": "execute_result",
     "data": {
      "text/plain": [
       "'Donald'"
      ]
     },
     "metadata": {},
     "execution_count": 13
    }
   ],
   "metadata": {}
  },
  {
   "cell_type": "code",
   "execution_count": 14,
   "source": [
    "d.__name # finally private?"
   ],
   "outputs": [
    {
     "output_type": "error",
     "ename": "AttributeError",
     "evalue": "'Duck' object has no attribute '__name'",
     "traceback": [
      "\u001b[0;31m---------------------------------------------------------------------------\u001b[0m",
      "\u001b[0;31mAttributeError\u001b[0m                            Traceback (most recent call last)",
      "\u001b[0;32m/tmp/ipykernel_22879/1976914427.py\u001b[0m in \u001b[0;36m<module>\u001b[0;34m\u001b[0m\n\u001b[0;32m----> 1\u001b[0;31m \u001b[0md\u001b[0m\u001b[0;34m.\u001b[0m\u001b[0m__name\u001b[0m \u001b[0;31m# finally private?\u001b[0m\u001b[0;34m\u001b[0m\u001b[0;34m\u001b[0m\u001b[0m\n\u001b[0m",
      "\u001b[0;31mAttributeError\u001b[0m: 'Duck' object has no attribute '__name'"
     ]
    }
   ],
   "metadata": {}
  },
  {
   "cell_type": "code",
   "execution_count": null,
   "source": [
    "d.__dict__"
   ],
   "outputs": [
    {
     "output_type": "execute_result",
     "data": {
      "text/plain": [
       "{'_Duck__name': 'Donald'}"
      ]
     },
     "metadata": {},
     "execution_count": 15
    }
   ],
   "metadata": {}
  },
  {
   "cell_type": "code",
   "execution_count": null,
   "source": [
    "# not quite ... __name is mangled cannot be accessed \n",
    "# except by its mangled name\n",
    "d._Duck__name"
   ],
   "outputs": [
    {
     "output_type": "execute_result",
     "data": {
      "text/plain": [
       "'Donald'"
      ]
     },
     "metadata": {},
     "execution_count": 16
    }
   ],
   "metadata": {}
  },
  {
   "cell_type": "markdown",
   "source": [
    "# Static and Class Methods\n",
    "* static methods are methods that don't operate on an instance of the object and therefore are shared by all instances of the object\n",
    "* class methods are methods that operate on the class itself, rather than instance of the class"
   ],
   "metadata": {
    "collapsed": true,
    "slideshow": {
     "slide_type": "subslide"
    }
   }
  },
  {
   "cell_type": "code",
   "execution_count": null,
   "source": [
    "class Duck:\n",
    "    _species = 'fowl' # class data\n",
    "    \n",
    "    def __init__(self, name):\n",
    "        # data which is intended to be truly private can be preceeded with \"dunder\"\n",
    "        self.__name = name\n",
    "        \n",
    "    @property\n",
    "    def name(self):\n",
    "        '''getter for name attribute'''\n",
    "        print('in getter')\n",
    "        return self.__name\n",
    "    \n",
    "    @name.setter\n",
    "    def name(self, val):\n",
    "        '''setter for name attribute'''\n",
    "        print('IN SETTER')\n",
    "        self.__name = val\n",
    "        \n",
    "    @staticmethod\n",
    "    def myprint(thing):\n",
    "        '''note that self is NOT the first param'''\n",
    "        print('-' * len(thing), thing, '-' * len(thing), sep='\\n')\n",
    "\n",
    "    #myprint = staticmethod(myprint)"
   ],
   "outputs": [],
   "metadata": {}
  },
  {
   "cell_type": "code",
   "execution_count": null,
   "source": [
    "d = Duck('Marc')\n",
    "Duck.myprint('Marc Benioff')"
   ],
   "outputs": [
    {
     "output_type": "stream",
     "name": "stdout",
     "text": [
      "------------\n",
      "Marc Benioff\n",
      "------------\n"
     ]
    }
   ],
   "metadata": {}
  },
  {
   "cell_type": "code",
   "execution_count": null,
   "source": [
    "d.name = 'Jeff'"
   ],
   "outputs": [
    {
     "output_type": "stream",
     "name": "stdout",
     "text": [
      "IN SETTER\n"
     ]
    }
   ],
   "metadata": {}
  },
  {
   "cell_type": "code",
   "execution_count": null,
   "source": [
    "d.name"
   ],
   "outputs": [
    {
     "output_type": "stream",
     "name": "stdout",
     "text": [
      "in getter\n"
     ]
    },
    {
     "output_type": "execute_result",
     "data": {
      "text/plain": [
       "'Jeff'"
      ]
     },
     "metadata": {},
     "execution_count": 20
    }
   ],
   "metadata": {}
  },
  {
   "cell_type": "code",
   "execution_count": null,
   "source": [
    "d.__dict__"
   ],
   "outputs": [
    {
     "output_type": "execute_result",
     "data": {
      "text/plain": [
       "{'_Duck__name': 'Jeff'}"
      ]
     },
     "metadata": {},
     "execution_count": 21
    }
   ],
   "metadata": {}
  },
  {
   "cell_type": "code",
   "execution_count": null,
   "source": [
    "d._Duck__name"
   ],
   "outputs": [
    {
     "output_type": "execute_result",
     "data": {
      "text/plain": [
       "'Jeff'"
      ]
     },
     "metadata": {},
     "execution_count": 22
    }
   ],
   "metadata": {}
  },
  {
   "cell_type": "code",
   "execution_count": null,
   "source": [
    "class Example:\n",
    "    __some_data = 'blah'\n",
    "    __how_many = 0\n",
    "    \n",
    "    def __init__(self, val):\n",
    "        print('in init for Example')\n",
    "        self.name = val # instance data\n",
    "        self.__class__.__how_many += 1 # get from object to class\n",
    "        print('__how_many =', self.__class__.__how_many)\n",
    "\n",
    "    def __del__(self):\n",
    "        self.__class__.__how_many -= 1\n",
    "        \n",
    "    # We can use a static (or class) method to get around\n",
    "    # a brittle __init__ that doesn't quite do what we want.\n",
    "    @staticmethod\n",
    "    def list_init(somelist):\n",
    "        '''allow me to send in a list, and \"flatten\" it\n",
    "        into a string with intervening commas'''\n",
    "        obj = Example('')\n",
    "        obj.name = ', '.join(somelist)\n",
    "        return obj\n",
    "    \n",
    "    @classmethod\n",
    "    def get_some_data(cls):\n",
    "        return cls.__some_data\n",
    "    \n",
    "    @classmethod\n",
    "    def get_count(cls):\n",
    "        return cls.__how_many"
   ],
   "outputs": [],
   "metadata": {}
  },
  {
   "cell_type": "code",
   "execution_count": null,
   "source": [
    "a = Example('foo')"
   ],
   "outputs": [
    {
     "output_type": "stream",
     "name": "stdout",
     "text": [
      "in init for Example\n",
      "__how_many = 1\n"
     ]
    }
   ],
   "metadata": {}
  },
  {
   "cell_type": "code",
   "execution_count": null,
   "source": [
    "b = Example.list_init(['a', 'b', 'c'])"
   ],
   "outputs": [
    {
     "output_type": "stream",
     "name": "stdout",
     "text": [
      "in init for Example\n",
      "__how_many = 2\n"
     ]
    }
   ],
   "metadata": {}
  },
  {
   "cell_type": "code",
   "execution_count": null,
   "source": [
    "Example.get_count()"
   ],
   "outputs": [
    {
     "output_type": "execute_result",
     "data": {
      "text/plain": [
       "2"
      ]
     },
     "metadata": {},
     "execution_count": 26
    }
   ],
   "metadata": {}
  },
  {
   "cell_type": "code",
   "execution_count": null,
   "source": [
    "b.name"
   ],
   "outputs": [],
   "metadata": {}
  },
  {
   "cell_type": "code",
   "execution_count": null,
   "source": [
    "e = Example('foo')\n",
    "e2 = Example.list_init(['foo', 'bar', 'baz'])\n",
    "print(type(e), e.name, e2.name, type(e2))\n",
    "print(Example.get_count())"
   ],
   "outputs": [],
   "metadata": {}
  },
  {
   "cell_type": "code",
   "execution_count": null,
   "source": [
    "del e\n",
    "print(Example.get_count())"
   ],
   "outputs": [],
   "metadata": {}
  },
  {
   "cell_type": "code",
   "execution_count": null,
   "source": [
    "e3 = e2"
   ],
   "outputs": [],
   "metadata": {}
  },
  {
   "cell_type": "code",
   "execution_count": null,
   "source": [
    "del e3"
   ],
   "outputs": [],
   "metadata": {}
  },
  {
   "cell_type": "code",
   "execution_count": null,
   "source": [
    "e2"
   ],
   "outputs": [],
   "metadata": {}
  },
  {
   "cell_type": "markdown",
   "source": [
    "# Lab: Class Methods\n",
    "* add class methods to your class which keeps track of all the instance names which have been created\n",
    "  * __`.allnames()`__ should return a list of all the names of objects which exist\n",
    "  * __`.count()`__ should return the number of objects that have ever been created\n",
    "  * we will need `__del__` to accomplish this"
   ],
   "metadata": {
    "slideshow": {
     "slide_type": "subslide"
    }
   }
  },
  {
   "cell_type": "markdown",
   "source": [
    "## The Python Data Model\n",
    "* let's return to our Pythonic deck of cards\n",
    "* we used named tuples to represent each card\n",
    "* the 'deck' is simply a list of cards"
   ],
   "metadata": {
    "slideshow": {
     "slide_type": "subslide"
    }
   }
  },
  {
   "cell_type": "code",
   "execution_count": null,
   "source": [
    "import collections\n",
    "\n",
    "Card = collections.namedtuple('Card', 'rank suit')\n",
    "\n",
    "class Deck:\n",
    "    # ranks and suits are class attributes because they\n",
    "    # should be shared by all decks\n",
    "    __ranks = [str(n) for n in range(2, 11)] + list('JQKA')\n",
    "    __suits = 'clubs diamonds hearts spades'.split()\n",
    "\n",
    "    def __init__(self):\n",
    "        self._cards = [Card(rank, suit)\n",
    "            for suit in self.__class__.__suits\n",
    "                for rank in self.__class__.__ranks]"
   ],
   "outputs": [],
   "metadata": {}
  },
  {
   "cell_type": "code",
   "execution_count": null,
   "source": [
    "d = Deck()\n",
    "\n",
    "# We can create a deck of cards, but it turns out it's not iterable...\n",
    "\n",
    "for card in d:\n",
    "    print(card)"
   ],
   "outputs": [],
   "metadata": {}
  },
  {
   "cell_type": "code",
   "execution_count": null,
   "source": [
    "# ...unless we refer to _cards directly\n",
    "\n",
    "for card in d._cards:\n",
    "    print(card, end=' ')"
   ],
   "outputs": [],
   "metadata": {}
  },
  {
   "cell_type": "code",
   "execution_count": null,
   "source": [
    "# we also cannot find the length of the deck\n",
    "# ...at least not without referring to `_cards` directly\n",
    "print(len(d._cards))\n",
    "print(len(d))"
   ],
   "outputs": [],
   "metadata": {}
  },
  {
   "cell_type": "markdown",
   "source": [
    "## Making our deck iterable\n",
    "* the Python data model allows us to accomplish quite a bit, just by implement the \\_\\_`len`\\_\\_`()` and \\_\\_`getitem`\\_\\_`()` methods"
   ],
   "metadata": {
    "slideshow": {
     "slide_type": "subslide"
    }
   }
  },
  {
   "cell_type": "code",
   "execution_count": null,
   "source": [
    "# a deck of cards, round two\n",
    "import collections\n",
    "\n",
    "Card = collections.namedtuple('Card', ['rank', 'suit'])\n",
    "\n",
    "class Deck(object):\n",
    "    ranks = [str(n) for n in range(2, 11)] + list('JQKA')\n",
    "    suits = 'clubs diamonds hearts spades'.split()\n",
    "\n",
    "    def __init__(self):\n",
    "        self._cards = [Card(rank, suit) for suit in self.suits\n",
    "                                        for rank in self.ranks]\n",
    "    def __len__(self):\n",
    "        return len(self._cards)\n",
    "\n",
    "    def __getitem__(self, position):\n",
    "        return self._cards[position]\n",
    "        #return list.__getitem__(self._cards, position)"
   ],
   "outputs": [],
   "metadata": {}
  },
  {
   "cell_type": "code",
   "execution_count": null,
   "source": [
    "deck = Deck()\n",
    "len(deck)"
   ],
   "outputs": [],
   "metadata": {}
  },
  {
   "cell_type": "code",
   "execution_count": null,
   "source": [
    "for card in deck:\n",
    "    print(card, end=' ')"
   ],
   "outputs": [],
   "metadata": {}
  },
  {
   "cell_type": "markdown",
   "source": [
    "### ...but just by implementing \\_\\_`getitem`\\_\\_`()`, we get so much more!"
   ],
   "metadata": {
    "slideshow": {
     "slide_type": "subslide"
    }
   }
  },
  {
   "cell_type": "code",
   "execution_count": null,
   "source": [
    "# like indexing\n",
    "deck[0], deck[-1]"
   ],
   "outputs": [],
   "metadata": {}
  },
  {
   "cell_type": "code",
   "execution_count": null,
   "source": [
    "# ...and slicing!\n",
    "deck[9:13]"
   ],
   "outputs": [],
   "metadata": {}
  },
  {
   "cell_type": "code",
   "execution_count": null,
   "source": [
    "deck[12::13]"
   ],
   "outputs": [],
   "metadata": {}
  },
  {
   "cell_type": "markdown",
   "source": [
    "## What about a method to pick a random card?\n",
    "* no need because Python already has a function to choose a random item from a sequence"
   ],
   "metadata": {
    "slideshow": {
     "slide_type": "subslide"
    }
   }
  },
  {
   "cell_type": "code",
   "execution_count": null,
   "source": [
    "from random import choice\n",
    "choice(deck)"
   ],
   "outputs": [],
   "metadata": {}
  },
  {
   "cell_type": "markdown",
   "source": [
    "## Two big advantages of using special methods to leverage the Python data model\n",
    "*  users of your classes don’t have to memorize arbitrary method names for standard operations (“How to get the number of items? Is it __`.size()`__, __`.length()`__, or what?”)\n",
    "* it’s easier to benefit from the rich Python standard library and avoid reinventing the wheel, e.g., __`random.choice()`__"
   ],
   "metadata": {
    "slideshow": {
     "slide_type": "subslide"
    }
   }
  },
  {
   "cell_type": "markdown",
   "source": [
    "# Private Class Methods?"
   ],
   "metadata": {}
  },
  {
   "cell_type": "code",
   "execution_count": null,
   "source": [
    "'''Python's name-mangling feature allows us to have somewhat\n",
    "   private methods and data. As we'll see, though, they can\n",
    "   still be accessed outside the class, if you're determined.\n",
    "'''\n",
    "class MyClass(object):\n",
    "    def __init__(self, name):\n",
    "        self.name = name\n",
    "        \n",
    "    def public(self):\n",
    "        print('This is a public method...name =', self.name)\n",
    "        print('It can call its own private method, of course...')\n",
    "        self.__class__.__private()\n",
    "    \n",
    "    @staticmethod\n",
    "    def __private():\n",
    "        print('\\tThis is a \"private\" method!')"
   ],
   "outputs": [],
   "metadata": {}
  },
  {
   "cell_type": "code",
   "execution_count": null,
   "source": [
    "c = MyClass('Dave')\n",
    "c.public()"
   ],
   "outputs": [],
   "metadata": {}
  },
  {
   "cell_type": "code",
   "execution_count": null,
   "source": [
    "# Try to call the private method...\n",
    "c.__private()"
   ],
   "outputs": [],
   "metadata": {}
  },
  {
   "cell_type": "code",
   "execution_count": null,
   "source": [
    "# ...but we *can* access the private method if we understand\n",
    "# \"name mangling\", which adds _classname at the beginning...\n",
    "c._MyClass__private()"
   ],
   "outputs": [],
   "metadata": {}
  }
 ],
 "metadata": {
  "celltoolbar": "Slideshow",
  "kernelspec": {
   "name": "python3",
   "display_name": "Python 3.8.10 64-bit ('py-yield-Jt80a98q': venv)"
  },
  "language_info": {
   "codemirror_mode": {
    "name": "ipython",
    "version": 3
   },
   "file_extension": ".py",
   "mimetype": "text/x-python",
   "name": "python",
   "nbconvert_exporter": "python",
   "pygments_lexer": "ipython3",
   "version": "3.8.10"
  },
  "interpreter": {
   "hash": "8464311b6cd02531cc83d752491de256d0b522e7c388c7b72d58a29deff5d2dd"
  }
 },
 "nbformat": 4,
 "nbformat_minor": 2
}