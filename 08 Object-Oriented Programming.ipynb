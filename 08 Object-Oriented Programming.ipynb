{
 "cells": [
  {
   "cell_type": "markdown",
   "source": [
    "# Object-Oriented Programming and Python Classes"
   ],
   "metadata": {
    "slideshow": {
     "slide_type": "slide"
    }
   }
  },
  {
   "cell_type": "markdown",
   "source": [
    "## Object-Oriented (OO) Programming and Python Classes\n",
    "* programming paradigm based on the concept of \"objects\" rather than \"actions\"\n",
    "  * objects may contain data, i.e., fields, often called *attributes*\n",
    "  * objects may contain code, i.e., functions, often called *methods*\n",
    "  * an object's methods can access and (often) modify the data fields of the object with which they are associated (objects have a notion of *this* or *self*)\n",
    "* OO programs are created from objects that interact with one another\n",
    "* Python, like most popular OO programming languages, is class-based\n",
    "  * i.e., objects are instances of classes, which typically also determine their type"
   ],
   "metadata": {
    "slideshow": {
     "slide_type": "subslide"
    }
   }
  },
  {
   "cell_type": "markdown",
   "source": [
    "## Our first class…__`BankAccount`__\n",
    "* let's consider a simple class, *BankAccount*, which represents, unsurprisingly, a bank account\n",
    "* what kinds of data (attributes) should a bank account have?\n",
    "  * owner's name\n",
    "  * current balance\n",
    "  * and of course many others, but those are a good start\n",
    "* what kind of operations (methods) should we be able to perform on a bank account?\n",
    "  * deposit money\n",
    "  * withdraw money\n",
    "  * again, we can think of others, but that's a good minimum set"
   ],
   "metadata": {
    "slideshow": {
     "slide_type": "subslide"
    }
   }
  },
  {
   "cell_type": "markdown",
   "source": [
    "## Things to Know About Classes (Objects) in Python\n",
    "* some languages, such as Java and C++, use the keyword *this* inside methods, in order to refer to the object itself\n",
    "* in Python, we use *self*, which, oddly, must be the first argument to every method in the class (with some exceptions we will see in Part 2)\n",
    "  * *self* is not a reserved word in Python, it is just a naming convention that everyone follows\n",
    "  * when calling an object's methods, Python passes in a reference to that object as the first parameter\n",
    "  * you therefore don't *pass* the parameter, but you must *declare* it\n",
    "    * will take some getting used to but eventually it will be second nature"
   ],
   "metadata": {
    "slideshow": {
     "slide_type": "subslide"
    }
   }
  },
  {
   "cell_type": "code",
   "execution_count": 1,
   "source": [
    "'''\n",
    "The class (or classes) in parentheses are classes\n",
    "from which this class inherits (we will discuss the\n",
    "concept of inheritance shortly).\n",
    "\n",
    "In Python 2.0, classes had issues that weren't\n",
    "corrected until Python 2.2. Beginning with Python\n",
    "2.2, in order to get the \"new style\" classes, you\n",
    "had to inherit from object. If you don't inherit\n",
    "from object in Python 2, you'll get the \"old style\"\n",
    "classes. In Python 3, this no longer matters, because\n",
    "all classes are \"new style\" classes in Python 3.\n",
    "'''\n",
    "class BankAccount(object):\n",
    "    def __init__(self, name, initial_balance):\n",
    "        self.name = name\n",
    "        self.balance = initial_balance\n",
    "        \n",
    "    def deposit(self, amount):\n",
    "        if amount > 0:\n",
    "            self.balance += amount\n",
    "            return self.balance\n",
    "        else:\n",
    "            print(\"can't deposit nonpositive amount!\")\n",
    "\n",
    "    def withdraw(self, amount):\n",
    "        if amount > 0:\n",
    "            if amount <= self.balance:\n",
    "                self.balance -= amount\n",
    "                return self.balance\n",
    "            else:\n",
    "                print(\"can't withdraw\", amount, \"or you would be overdrawn!\")\n",
    "        else:\n",
    "            print(\"can't withdraw nonpositive amount!\")"
   ],
   "outputs": [],
   "metadata": {
    "slideshow": {
     "slide_type": "subslide"
    }
   }
  },
  {
   "cell_type": "markdown",
   "source": [
    "## Creating (Instantiating) a BankAccount Object\n",
    "* to create or *instantiate* an object of type BankAccount, we call the class as if it were a function\n",
    "* note that an *instance* of the class is different from the class itself"
   ],
   "metadata": {
    "slideshow": {
     "slide_type": "subslide"
    }
   }
  },
  {
   "cell_type": "code",
   "execution_count": 2,
   "source": [
    "marc = BankAccount('Marc Benioff', 500)\n",
    "ranveer = BankAccount('Ranveer Singh', 300)\n",
    "print(marc, ranveer, sep='\\n')"
   ],
   "outputs": [
    {
     "output_type": "stream",
     "name": "stdout",
     "text": [
      "<__main__.BankAccount object at 0x7f7e4c056490>\n",
      "<__main__.BankAccount object at 0x7f7e4c056d00>\n"
     ]
    }
   ],
   "metadata": {
    "slideshow": {
     "slide_type": "-"
    }
   }
  },
  {
   "cell_type": "code",
   "execution_count": 3,
   "source": [
    "print(type(BankAccount), type(ranveer), type(int), sep='\\n')"
   ],
   "outputs": [
    {
     "output_type": "stream",
     "name": "stdout",
     "text": [
      "<class 'type'>\n",
      "<class '__main__.BankAccount'>\n",
      "<class 'type'>\n"
     ]
    }
   ],
   "metadata": {
    "slideshow": {
     "slide_type": "-"
    }
   }
  },
  {
   "cell_type": "markdown",
   "source": [
    "## What happened when we *instantiated* a BankAcount object?\n",
    "            \n",
    "![alt-text](__init__2.png \"__init__\")\n",
    "![alt-text](BankAccount.png \"BankAccount\")"
   ],
   "metadata": {
    "slideshow": {
     "slide_type": "subslide"
    }
   }
  },
  {
   "cell_type": "code",
   "execution_count": 4,
   "source": [
    "print(marc)\n",
    "print(marc.name, marc.balance, sep='\\n')\n",
    "marc.deposit(25)"
   ],
   "outputs": [
    {
     "output_type": "stream",
     "name": "stdout",
     "text": [
      "<__main__.BankAccount object at 0x7f7e4c056490>\n",
      "Marc Benioff\n",
      "500\n"
     ]
    },
    {
     "output_type": "execute_result",
     "data": {
      "text/plain": [
       "525"
      ]
     },
     "metadata": {},
     "execution_count": 4
    }
   ],
   "metadata": {
    "slideshow": {
     "slide_type": "subslide"
    }
   }
  },
  {
   "cell_type": "code",
   "execution_count": 5,
   "source": [
    "marc.withdraw(40)"
   ],
   "outputs": [
    {
     "output_type": "execute_result",
     "data": {
      "text/plain": [
       "485"
      ]
     },
     "metadata": {},
     "execution_count": 5
    }
   ],
   "metadata": {}
  },
  {
   "cell_type": "markdown",
   "source": [
    "## What happens when you call a method such as __`deposit()`__?\n",
    "* Python calls the method inside the _class_ and passes a reference (the memory address) to the specific object for you which you want to call that method\n",
    "* Let's consider making a deposit to Ranveer's account...\n",
    "  * Instead of calling __`ranveer.deposit(45)`__, we can invoke the __`deposit()`__ method inside the __`BankAccount`__ class and pass a reference to the object we want to affect (__`ranveer`__ in this case)"
   ],
   "metadata": {}
  },
  {
   "cell_type": "code",
   "execution_count": 6,
   "source": [
    "BankAccount.deposit(ranveer, 45) # ranveer.deposit(45)"
   ],
   "outputs": [
    {
     "output_type": "execute_result",
     "data": {
      "text/plain": [
       "345"
      ]
     },
     "metadata": {},
     "execution_count": 6
    }
   ],
   "metadata": {}
  },
  {
   "cell_type": "markdown",
   "source": [
    "## Magic Methods\n",
    "* methods whose name is of the form \\_\\_`foo`\\_\\_ are called \"magic methods\" in Python\n",
    "* you already know one of them: \\_\\_`init`\\_\\_\n",
    "  * \\_\\_`init`\\_\\_ is called automatically when the object is instantiated\n",
    "  * sometimes called a constructor (see https://docs.python.org/3/reference/datamodel.html#basic-customization for details of why it's a bit more complicated)"
   ],
   "metadata": {
    "slideshow": {
     "slide_type": "subslide"
    }
   }
  },
  {
   "cell_type": "markdown",
   "source": [
    "* __\\_\\_`str`\\_\\_()__ returns a string representation of the object (i.e., for humans)\n",
    "  * maps to __`str()`__ function\n",
    "  * what you get when you __`print()`__ an object\n",
    "* __\\_\\_`repr`\\_\\_()__ returns an unambiguous representation of the object which could be fed to Python interpreter to recreate the object\n",
    "  * maps to __`repr()`__ function\n",
    "  * what you get when you have the interpreter print the value of an object\n",
    "* a good example of the difference between __`str()`__ and __`repr()`__ can be demonstrated with a __`datetime`__ object..."
   ],
   "metadata": {
    "slideshow": {
     "slide_type": "subslide"
    }
   }
  },
  {
   "cell_type": "code",
   "execution_count": 7,
   "source": [
    "import datetime\n",
    "today = datetime.datetime.now()\n",
    "print(type(today), today, sep='\\n') # str()"
   ],
   "outputs": [
    {
     "output_type": "stream",
     "name": "stdout",
     "text": [
      "<class 'datetime.datetime'>\n",
      "2021-09-20 07:24:31.773380\n"
     ]
    }
   ],
   "metadata": {
    "slideshow": {
     "slide_type": "subslide"
    }
   }
  },
  {
   "cell_type": "code",
   "execution_count": 8,
   "source": [
    "today.__repr__() # repr()"
   ],
   "outputs": [
    {
     "output_type": "execute_result",
     "data": {
      "text/plain": [
       "'datetime.datetime(2021, 9, 20, 7, 24, 31, 773380)'"
      ]
     },
     "metadata": {},
     "execution_count": 8
    }
   ],
   "metadata": {
    "slideshow": {
     "slide_type": "-"
    }
   }
  },
  {
   "cell_type": "code",
   "execution_count": 9,
   "source": [
    "str(today) # same as __str__() function in the object"
   ],
   "outputs": [
    {
     "output_type": "execute_result",
     "data": {
      "text/plain": [
       "'2021-09-20 07:24:31.773380'"
      ]
     },
     "metadata": {},
     "execution_count": 9
    }
   ],
   "metadata": {}
  },
  {
   "cell_type": "code",
   "execution_count": 10,
   "source": [
    "today.__str__()"
   ],
   "outputs": [
    {
     "output_type": "execute_result",
     "data": {
      "text/plain": [
       "'2021-09-20 07:24:31.773380'"
      ]
     },
     "metadata": {},
     "execution_count": 10
    }
   ],
   "metadata": {}
  },
  {
   "cell_type": "code",
   "execution_count": 11,
   "source": [
    "repr(today) # same as __repr__() function in the object"
   ],
   "outputs": [
    {
     "output_type": "execute_result",
     "data": {
      "text/plain": [
       "'datetime.datetime(2021, 9, 20, 7, 24, 31, 773380)'"
      ]
     },
     "metadata": {},
     "execution_count": 11
    }
   ],
   "metadata": {}
  },
  {
   "cell_type": "code",
   "execution_count": 12,
   "source": [
    "today.__repr__()"
   ],
   "outputs": [
    {
     "output_type": "execute_result",
     "data": {
      "text/plain": [
       "'datetime.datetime(2021, 9, 20, 7, 24, 31, 773380)'"
      ]
     },
     "metadata": {},
     "execution_count": 12
    }
   ],
   "metadata": {}
  },
  {
   "cell_type": "markdown",
   "source": [
    "## Let's augment our BankAccount class with `str()` and `repr()` functions..."
   ],
   "metadata": {
    "slideshow": {
     "slide_type": "subslide"
    }
   }
  },
  {
   "cell_type": "code",
   "execution_count": 13,
   "source": [
    "class BankAccount2(object):\n",
    "    def __init__(self, name, initial_balance):\n",
    "        self.name = name\n",
    "        self.balance = initial_balance\n",
    "\n",
    "    def __repr__(self):\n",
    "        '''unambiguous representation of the object'''\n",
    "        return self.__class__.__name__ + '(' + repr(self.name) + ', ' + repr(self.balance) + ')'\n",
    "\n",
    "    def __str__(self):\n",
    "        '''string representation of object, for humans\n",
    "        __repr__ is used if __str__ does not exist'''\n",
    "        return self.name + ' has ₹' + str(self.balance) + ' in the bank'\n",
    "   \n",
    "    def __add__(self, other):\n",
    "        return self.__class__(self.name + ' + ' + other.name, \n",
    "                           self.balance + other.balance - 5.95)\n",
    "    \n",
    "    def deposit(self, amount):\n",
    "        if amount > 0:\n",
    "            self.balance += amount\n",
    "            return self.balance\n",
    "        else:\n",
    "            print(\"can't deposit nonpositive amount!\")\n",
    "\n",
    "    def withdraw(self, amount):\n",
    "        if amount > 0:\n",
    "            if amount <= self.balance:\n",
    "                self.balance -= amount\n",
    "                return self.balance\n",
    "            else:\n",
    "                print(\"can't withdraw\", amount, \"or you would be overdrawn!\")\n",
    "        else:\n",
    "            print(\"can't withdraw nonpositive amount!\")"
   ],
   "outputs": [],
   "metadata": {}
  },
  {
   "cell_type": "code",
   "execution_count": 14,
   "source": [
    "account1 = BankAccount2('Michael D. Higgins', 150)\n",
    "account2 = BankAccount2('Theresa May', 150)\n",
    "print(account1)"
   ],
   "outputs": [
    {
     "output_type": "stream",
     "name": "stdout",
     "text": [
      "Michael D. Higgins has ₹150 in the bank\n"
     ]
    }
   ],
   "metadata": {
    "slideshow": {
     "slide_type": "subslide"
    }
   }
  },
  {
   "cell_type": "code",
   "execution_count": 15,
   "source": [
    "account1"
   ],
   "outputs": [
    {
     "output_type": "execute_result",
     "data": {
      "text/plain": [
       "BankAccount2('Michael D. Higgins', 150)"
      ]
     },
     "metadata": {},
     "execution_count": 15
    }
   ],
   "metadata": {}
  },
  {
   "cell_type": "code",
   "execution_count": 16,
   "source": [
    "account1 + account2"
   ],
   "outputs": [
    {
     "output_type": "execute_result",
     "data": {
      "text/plain": [
       "BankAccount2('Michael D. Higgins + Theresa May', 294.05)"
      ]
     },
     "metadata": {},
     "execution_count": 16
    }
   ],
   "metadata": {}
  },
  {
   "cell_type": "code",
   "execution_count": 17,
   "source": [
    "repr(account2)"
   ],
   "outputs": [
    {
     "output_type": "execute_result",
     "data": {
      "text/plain": [
       "\"BankAccount2('Theresa May', 150)\""
      ]
     },
     "metadata": {},
     "execution_count": 17
    }
   ],
   "metadata": {}
  },
  {
   "cell_type": "code",
   "execution_count": 18,
   "source": [
    "code_str = repr(account2)\n",
    "print(repr(code_str))\n",
    "dupe_object = eval(code_str)\n",
    "dupe_object"
   ],
   "outputs": [
    {
     "output_type": "stream",
     "name": "stdout",
     "text": [
      "\"BankAccount2('Theresa May', 150)\"\n"
     ]
    },
    {
     "output_type": "execute_result",
     "data": {
      "text/plain": [
       "BankAccount2('Theresa May', 150)"
      ]
     },
     "metadata": {},
     "execution_count": 18
    }
   ],
   "metadata": {}
  },
  {
   "cell_type": "markdown",
   "source": [
    "## Other Magic Methods\n",
    "* __\\_\\_`add`\\_\\___ = add two objects together\n",
    "* __\\_\\_`eq`\\_\\___ = implementation of ==\n",
    "* __\\_\\_`ne`\\_\\___ = implementation of !=\n",
    "* __\\_\\_`len`\\_\\___ = implementation of len() method"
   ],
   "metadata": {
    "slideshow": {
     "slide_type": "subslide"
    }
   }
  },
  {
   "cell_type": "markdown",
   "source": [
    "## Lab: OO Programming\n",
    "1. Add a __\\_\\_`eq`\\_\\_()__ method to the BankAccount class\n",
    "  * How you define __\\_\\_`eq`\\_\\_()__ is up to you\n",
    "* Add a __\\_\\_`mul`\\_\\_()__ method to the BankAccount class\n",
    "  * it should create a new BankAccount which does something to the name and multiplies the balance by the second operand\n",
    "* Add a __\\_\\_`len`\\_\\_()__ method to the BankAccount class\n",
    "* Create a class __`Calculator`__ which acts like a calculator\n",
    "  * Your class should have methods `add()`, `sub()`, `mult()`, `div()`, `pow()`, and `log()`\n",
    "  * Each of the above methods (except `log`) should take 1 or 2 arguments\n",
    "    * for 1 argument, e.g., `add(1)`, your method should add to the running total\n",
    "    * for 2 arguments, your method should act on those 2 arguments to create a new running total\n",
    "    * e.g., `add(2, 4)` should produce 6, and then if followed by `multiply(5)`, the result should be 30\n",
    "* All calculations should be stored, and should be accessible to the caller via the `showcalc()` method (kind of like a printing calculator)\n",
    "* You should also have an `ac()` \"all clear\" method which clears the running total and the list of calculations (i.e., showcalc() should produce no output, or \"0.0\" when preceded by a call to `ac()`)"
   ],
   "metadata": {
    "slideshow": {
     "slide_type": "subslide"
    }
   }
  },
  {
   "cell_type": "code",
   "execution_count": 19,
   "source": [
    "from calculator import Calc\n",
    "mycalc = Calc()\n",
    "mycalc.add(5)\n",
    "mycalc.add(4, 3)\n",
    "print(mycalc.showcalc())"
   ],
   "outputs": [
    {
     "output_type": "stream",
     "name": "stdout",
     "text": [
      "0 + 5 = 5\n",
      "4 + 3 = 7\n"
     ]
    }
   ],
   "metadata": {}
  },
  {
   "cell_type": "code",
   "execution_count": 20,
   "source": [
    "c = Calc()\n",
    "c.add(2, 5) # we are asking one single calculator to add two numbers\n",
    "c.add(9)\n",
    "c.mult(13)\n",
    "c.mult(20, 5)\n",
    "print(c)\n",
    "c.ac()\n",
    "c.add(1)"
   ],
   "outputs": [
    {
     "output_type": "stream",
     "name": "stdout",
     "text": [
      "2 + 5 = 7\n",
      "7 + 9 = 16\n",
      "16 * 13 = 208\n",
      "20 * 5 = 100\n"
     ]
    },
    {
     "output_type": "execute_result",
     "data": {
      "text/plain": [
       "1"
      ]
     },
     "metadata": {},
     "execution_count": 20
    }
   ],
   "metadata": {}
  },
  {
   "cell_type": "markdown",
   "source": [
    "## Inheritance\n",
    "* a Python class can inherit from one or more other classes\n",
    "* a class which inherits from a class is called a *subclass*\n",
    "  * the class from which the *subclass* inherits is called the *superclass*\n",
    "* a subclass which defines a method which exists in the superclass *overrides* the superclass's method"
   ],
   "metadata": {
    "slideshow": {
     "slide_type": "subslide"
    }
   }
  },
  {
   "cell_type": "markdown",
   "source": [
    "## `Word`: A Class Which Inherits from Python's Builtin `str` Class\n",
    "* unlike strings, `Word`s are ordered by their length, rather than alphabetical order\n",
    "  * for example...\n",
    "  \n",
    "        'apple' < 'fig'\n",
    "        Word('apple') > Word('fig')\n",
    "        \n",
    "        \n",
    "* in all other ways, `Word`s are the same as strings\n",
    "  * all we need to do is inherit from `str` and *override* the concepts of >, <, >=, <="
   ],
   "metadata": {
    "slideshow": {
     "slide_type": "subslide"
    }
   }
  },
  {
   "cell_type": "code",
   "execution_count": 21,
   "source": [
    "'apple' < 'fig'"
   ],
   "outputs": [
    {
     "output_type": "execute_result",
     "data": {
      "text/plain": [
       "True"
      ]
     },
     "metadata": {},
     "execution_count": 21
    }
   ],
   "metadata": {}
  },
  {
   "cell_type": "code",
   "execution_count": 22,
   "source": [
    "class Word(str):\n",
    "    def __lt__(self, other):\n",
    "        # compute length of each Word (string)\n",
    "        # ask if length of first Word < length of second Word\n",
    "        print(f'{self} < {other} = {len(self) < len(other)}')\n",
    "        return len(self) < len(other)\n",
    "    \n",
    "    def __gt__(self, other):\n",
    "        return len(self) > len(other)\n",
    "\n",
    "    def __ge__(self, other):\n",
    "        return len(self) >= len(other)\n",
    "    \n",
    "    def __le__(self, other):\n",
    "        return len(self) <= len(other)\n",
    "    \n",
    "    def __eq__(self, other):\n",
    "        return len(self) == len(other)"
   ],
   "outputs": [],
   "metadata": {}
  },
  {
   "cell_type": "code",
   "execution_count": 23,
   "source": [
    "my_words = [Word('pomegranate'), Word('apple'), Word('fig'), \n",
    "            Word('pear')]\n",
    "print(my_words)"
   ],
   "outputs": [
    {
     "output_type": "stream",
     "name": "stdout",
     "text": [
      "['pomegranate', 'apple', 'fig', 'pear']\n"
     ]
    }
   ],
   "metadata": {}
  },
  {
   "cell_type": "code",
   "execution_count": 24,
   "source": [
    "my_words.sort()\n",
    "# sort() iterates through the list\n",
    "# compares pairs of items from the list\n",
    "# uses less than (<) to do that comparison\n",
    "print(my_words)"
   ],
   "outputs": [
    {
     "output_type": "stream",
     "name": "stdout",
     "text": [
      "apple < pomegranate = True\n",
      "fig < apple = True\n",
      "pear < fig = False\n",
      "pear < apple = True\n",
      "pear < fig = False\n",
      "['fig', 'pear', 'apple', 'pomegranate']\n"
     ]
    }
   ],
   "metadata": {}
  },
  {
   "cell_type": "code",
   "execution_count": 25,
   "source": [
    "Word('apple') == Word('peach'), 'apple' == 'peach'"
   ],
   "outputs": [
    {
     "output_type": "execute_result",
     "data": {
      "text/plain": [
       "(True, False)"
      ]
     },
     "metadata": {},
     "execution_count": 25
    }
   ],
   "metadata": {}
  },
  {
   "cell_type": "markdown",
   "source": [
    "# Lab: Inheritance\n",
    "* create a type called FunnyList which has all the chocolately goodness of a list, but adds the following wrinkle:\n",
    " * if two lists have same items but in different orders, they are considered equal\n",
    " * e.g., __`[1, 2, 3]`__ == __`[3, 1, 2]`__"
   ],
   "metadata": {}
  },
  {
   "cell_type": "markdown",
   "source": [
    "## Another inheritance example: Polygon\n",
    "* a polygon is a multi-sided object\n",
    "* triangles and squares are polygons with specific properties"
   ],
   "metadata": {
    "slideshow": {
     "slide_type": "subslide"
    }
   }
  },
  {
   "cell_type": "code",
   "execution_count": 26,
   "source": [
    "class Polygon:\n",
    "    def __init__(self, num_sides):\n",
    "        self.num_sides = num_sides\n",
    "        self.sides = [0] * num_sides\n",
    "\n",
    "    def __repr__(self):\n",
    "        return \", \".join(str(i) for i in self.sides)\n",
    "\n",
    "    def input_sides(self):\n",
    "        self.sides = [float(input(\"Enter side \" + str(i + 1) + \": \"))\n",
    "                      for i in range(self.num_sides)]\n",
    "\n",
    "    def area(self):\n",
    "        raise ValueError(\"Can't compute area of unknown polygon!\")"
   ],
   "outputs": [],
   "metadata": {
    "slideshow": {
     "slide_type": "subslide"
    }
   }
  },
  {
   "cell_type": "code",
   "execution_count": 27,
   "source": [
    "class Triangle(Polygon):\n",
    "    def __init__(self):\n",
    "        '''\n",
    "        use super() to call __init__ in base class and\n",
    "        be sure we have 3 sides\n",
    "        '''\n",
    "        super().__init__(3)\n",
    "        # super(Triangle, self)...\n",
    "\n",
    "    def area(self):\n",
    "        from math import sqrt\n",
    "        a, b, c = self.sides\n",
    "        '''compute semi-perimeter'''\n",
    "        s = sum(self.sides) / 2\n",
    "        '''compute area using Heron's formula'''\n",
    "        area = sqrt((s * (s - a) * (s - b) * (s - c)))\n",
    "        return area"
   ],
   "outputs": [],
   "metadata": {}
  },
  {
   "cell_type": "code",
   "execution_count": 28,
   "source": [
    "t = Triangle()\n",
    "t.input_sides()\n",
    "print(t.area())"
   ],
   "outputs": [
    {
     "output_type": "stream",
     "name": "stdout",
     "text": [
      "6.0\n"
     ]
    }
   ],
   "metadata": {}
  },
  {
   "cell_type": "code",
   "execution_count": 29,
   "source": [
    "p = Polygon(5)\n",
    "p.input_sides()\n",
    "p.area()"
   ],
   "outputs": [
    {
     "output_type": "error",
     "ename": "ValueError",
     "evalue": "Can't compute area of unknown polygon!",
     "traceback": [
      "\u001b[0;31m---------------------------------------------------------------------------\u001b[0m",
      "\u001b[0;31mValueError\u001b[0m                                Traceback (most recent call last)",
      "\u001b[0;32m/tmp/ipykernel_22618/2989182706.py\u001b[0m in \u001b[0;36m<module>\u001b[0;34m\u001b[0m\n\u001b[1;32m      1\u001b[0m \u001b[0mp\u001b[0m \u001b[0;34m=\u001b[0m \u001b[0mPolygon\u001b[0m\u001b[0;34m(\u001b[0m\u001b[0;36m5\u001b[0m\u001b[0;34m)\u001b[0m\u001b[0;34m\u001b[0m\u001b[0;34m\u001b[0m\u001b[0m\n\u001b[1;32m      2\u001b[0m \u001b[0mp\u001b[0m\u001b[0;34m.\u001b[0m\u001b[0minput_sides\u001b[0m\u001b[0;34m(\u001b[0m\u001b[0;34m)\u001b[0m\u001b[0;34m\u001b[0m\u001b[0;34m\u001b[0m\u001b[0m\n\u001b[0;32m----> 3\u001b[0;31m \u001b[0mp\u001b[0m\u001b[0;34m.\u001b[0m\u001b[0marea\u001b[0m\u001b[0;34m(\u001b[0m\u001b[0;34m)\u001b[0m\u001b[0;34m\u001b[0m\u001b[0;34m\u001b[0m\u001b[0m\n\u001b[0m",
      "\u001b[0;32m/tmp/ipykernel_22618/2206560661.py\u001b[0m in \u001b[0;36marea\u001b[0;34m(self)\u001b[0m\n\u001b[1;32m     12\u001b[0m \u001b[0;34m\u001b[0m\u001b[0m\n\u001b[1;32m     13\u001b[0m     \u001b[0;32mdef\u001b[0m \u001b[0marea\u001b[0m\u001b[0;34m(\u001b[0m\u001b[0mself\u001b[0m\u001b[0;34m)\u001b[0m\u001b[0;34m:\u001b[0m\u001b[0;34m\u001b[0m\u001b[0;34m\u001b[0m\u001b[0m\n\u001b[0;32m---> 14\u001b[0;31m         \u001b[0;32mraise\u001b[0m \u001b[0mValueError\u001b[0m\u001b[0;34m(\u001b[0m\u001b[0;34m\"Can't compute area of unknown polygon!\"\u001b[0m\u001b[0;34m)\u001b[0m\u001b[0;34m\u001b[0m\u001b[0;34m\u001b[0m\u001b[0m\n\u001b[0m",
      "\u001b[0;31mValueError\u001b[0m: Can't compute area of unknown polygon!"
     ]
    }
   ],
   "metadata": {}
  },
  {
   "cell_type": "code",
   "execution_count": null,
   "source": [
    "class Square(Polygon):\n",
    "    def __init__(self):\n",
    "        super().__init__(4)\n",
    "\n",
    "    def input_sides(self):\n",
    "        '''For a square only need to enter one side'''\n",
    "        # only need one side length for a square\n",
    "        s = float(input(\"Enter length of side: \"))\n",
    "        # only need to store one side\n",
    "        self.sides = [s] * 4\n",
    "\n",
    "    def area(self):\n",
    "        return self.sides[0] ** 2"
   ],
   "outputs": [],
   "metadata": {}
  },
  {
   "cell_type": "code",
   "execution_count": null,
   "source": [
    "s = Square()\n",
    "s.input_sides()\n",
    "print(repr(s))\n",
    "print(s.area())"
   ],
   "outputs": [
    {
     "output_type": "stream",
     "name": "stdout",
     "text": [
      "Enter length of side: 5\n",
      "5.0, 5.0, 5.0, 5.0\n",
      "25.0\n"
     ]
    }
   ],
   "metadata": {}
  },
  {
   "cell_type": "markdown",
   "source": [
    "## Lab: Inheritance\n",
    "* Create a \"ZanyInt\" class which inherits from int and redefines certain methods:\n",
    "* __`len()`__ doesn't work for standard ints but make sure it works for a __`ZanyInt`__\n",
    "* make it so the __`str()`__ version of a ZanyInt is something odd, e.g., __`str(3)`__ return 'three', but __`str()`__ of other numbers returns the number with some leading and trailing spaces\n",
    "* make it so + usually gives the right answer, but not always (use the __`random`__ module)"
   ],
   "metadata": {
    "slideshow": {
     "slide_type": "subslide"
    }
   }
  },
  {
   "cell_type": "code",
   "execution_count": null,
   "source": [],
   "outputs": [],
   "metadata": {}
  },
  {
   "cell_type": "markdown",
   "source": [
    "## Class variables vs. Instance variables\n",
    "* variables set outside `__init__` belong to the *class* (as opposed to the *instance*) and are shared by all instances of the class\n",
    "    * these variables can be accessed via __`ClassName.var`__ and __`classInstance.var`__\n",
    "* variables created inside __init__ (and all other method functions) and prefaced with __`self.`__ belong to the object *instance* and cannot be accessed via __`ClassName.`__"
   ],
   "metadata": {
    "collapsed": true,
    "slideshow": {
     "slide_type": "subslide"
    }
   }
  },
  {
   "cell_type": "code",
   "execution_count": null,
   "source": [
    "class Person:\n",
    "    '''How about that?'''\n",
    "    species = 'Human'\n",
    "    \n",
    "    def __init__(self, name):\n",
    "        print('__dict__', self.__dict__)\n",
    "        self.name = name\n",
    "        print('__dict__', self.__dict__)\n",
    "        print(f\"{self.name}'s species is {Person.species}\")"
   ],
   "outputs": [],
   "metadata": {}
  },
  {
   "cell_type": "code",
   "execution_count": null,
   "source": [
    "p1 = Person('Godzilla')"
   ],
   "outputs": [
    {
     "output_type": "stream",
     "name": "stdout",
     "text": [
      "__dict__ {}\n",
      "__dict__ {'name': 'Godzilla'}\n",
      "Godzilla's species is Human\n"
     ]
    }
   ],
   "metadata": {}
  },
  {
   "cell_type": "code",
   "execution_count": null,
   "source": [
    "p1.__dict__"
   ],
   "outputs": [
    {
     "output_type": "execute_result",
     "data": {
      "text/plain": [
       "{'name': 'Godzilla'}"
      ]
     },
     "metadata": {},
     "execution_count": 55
    }
   ],
   "metadata": {}
  },
  {
   "cell_type": "code",
   "execution_count": null,
   "source": [
    "Person.species, p1.species, p1.name"
   ],
   "outputs": [
    {
     "output_type": "execute_result",
     "data": {
      "text/plain": [
       "('Human', 'Human', 'Godzilla')"
      ]
     },
     "metadata": {},
     "execution_count": 56
    }
   ],
   "metadata": {}
  },
  {
   "cell_type": "code",
   "execution_count": null,
   "source": [
    "print(p1.__dict__, Person.__dict__, sep='\\n')"
   ],
   "outputs": [
    {
     "output_type": "stream",
     "name": "stdout",
     "text": [
      "{'name': 'Godzilla'}\n",
      "{'__module__': '__main__', '__doc__': 'How about that?', 'species': 'Human', '__init__': <function Person.__init__ at 0x10bf23268>, '__dict__': <attribute '__dict__' of 'Person' objects>, '__weakref__': <attribute '__weakref__' of 'Person' objects>}\n"
     ]
    }
   ],
   "metadata": {}
  },
  {
   "cell_type": "code",
   "execution_count": null,
   "source": [
    "help(Person)"
   ],
   "outputs": [
    {
     "output_type": "stream",
     "name": "stdout",
     "text": [
      "Help on class Person in module __main__:\n",
      "\n",
      "class Person(builtins.object)\n",
      " |  Person(name)\n",
      " |  \n",
      " |  How about that?\n",
      " |  \n",
      " |  Methods defined here:\n",
      " |  \n",
      " |  __init__(self, name)\n",
      " |      Initialize self.  See help(type(self)) for accurate signature.\n",
      " |  \n",
      " |  ----------------------------------------------------------------------\n",
      " |  Data descriptors defined here:\n",
      " |  \n",
      " |  __dict__\n",
      " |      dictionary for instance variables (if defined)\n",
      " |  \n",
      " |  __weakref__\n",
      " |      list of weak references to the object (if defined)\n",
      " |  \n",
      " |  ----------------------------------------------------------------------\n",
      " |  Data and other attributes defined here:\n",
      " |  \n",
      " |  species = 'Human'\n",
      "\n"
     ]
    }
   ],
   "metadata": {}
  },
  {
   "cell_type": "code",
   "execution_count": null,
   "source": [
    "p2 = Person('Mothra')\n",
    "print(p2.name, p2.species, sep='\\n')"
   ],
   "outputs": [
    {
     "output_type": "stream",
     "name": "stdout",
     "text": [
      "__dict__ {}\n",
      "__dict__ {'name': 'Mothra'}\n",
      "Mothra's species is Human\n",
      "Mothra\n",
      "Human\n"
     ]
    }
   ],
   "metadata": {}
  },
  {
   "cell_type": "code",
   "execution_count": null,
   "source": [
    "Person.species = 'animal'"
   ],
   "outputs": [],
   "metadata": {}
  },
  {
   "cell_type": "code",
   "execution_count": null,
   "source": [
    "print(p1.species, p2.species, Person.species, sep='\\n')"
   ],
   "outputs": [
    {
     "output_type": "stream",
     "name": "stdout",
     "text": [
      "animal\n",
      "animal\n",
      "animal\n"
     ]
    }
   ],
   "metadata": {}
  },
  {
   "cell_type": "code",
   "execution_count": null,
   "source": [
    "p1.species = 'monster'\n",
    "p1.__dict__"
   ],
   "outputs": [
    {
     "output_type": "execute_result",
     "data": {
      "text/plain": [
       "{'name': 'Godzilla', 'species': 'monster'}"
      ]
     },
     "metadata": {},
     "execution_count": 62
    }
   ],
   "metadata": {}
  },
  {
   "cell_type": "code",
   "execution_count": null,
   "source": [
    "print(Person.species, p1.species, p2.species, sep='\\n')"
   ],
   "outputs": [
    {
     "output_type": "stream",
     "name": "stdout",
     "text": [
      "animal\n",
      "monster\n",
      "animal\n"
     ]
    }
   ],
   "metadata": {}
  },
  {
   "cell_type": "code",
   "execution_count": null,
   "source": [
    "p1.__dict__"
   ],
   "outputs": [],
   "metadata": {}
  },
  {
   "cell_type": "code",
   "execution_count": null,
   "source": [
    "Person.species = 'Benioff'\n",
    "Person.species, p1.species, p2.species"
   ],
   "outputs": [],
   "metadata": {}
  },
  {
   "cell_type": "markdown",
   "source": [
    "## Lab: Class variables vs. Instance variables\n",
    "* create a class with an instance variable called __`name`__ which does the following:\n",
    "  * uses a class variable to keep track of the __`name`__s of the objects that have been created\n",
    "* what if we wanted to know the names of the instances that exist currently, as opposed to the names of instances which have _ever_ been created\n",
    "  * hint: there is a __\\_\\_`del`\\_\\_()__ function\n"
   ],
   "metadata": {
    "slideshow": {
     "slide_type": "subslide"
    }
   }
  },
  {
   "cell_type": "markdown",
   "source": [
    "## Accessing Attributes of an Object\n",
    "* __\\_\\_`getattr`\\_\\_`(self, name)`__\n",
    " * called when you attempt to get the value of an attribute\n",
    " * you can add code to deal with attributes that don't exist (perhaps to catch common misspellings or just to avoid exceptions)\n",
    "* __\\_\\_`setattr`\\_\\_`(self, name, value)`__\n",
    " * called when you set the value of an attribute\n"
   ],
   "metadata": {}
  },
  {
   "cell_type": "code",
   "execution_count": null,
   "source": [
    "class Demo:\n",
    "    def __init__(self):\n",
    "        self.one = 1\n",
    "        self.two = 2\n",
    "        # self.readonly = 'do not change'\n",
    "        super().__setattr__('readonly', 'do not change')\n",
    "        # super(Demo, self).__setattr__...\n",
    "        \n",
    "    def __getattr__(self, attr):\n",
    "        if attr in self.__dict__:\n",
    "            return self.__dict__[attr]\n",
    "        else:\n",
    "            return 'whoop!'\n",
    "        \n",
    "    def __setattr__(self, attr, value):\n",
    "        print('setting attribute', attr)\n",
    "        if attr != 'readonly':\n",
    "            self.__dict__[attr] = value\n",
    "        else:\n",
    "            print('nyah!')\n",
    "        "
   ],
   "outputs": [],
   "metadata": {}
  },
  {
   "cell_type": "code",
   "execution_count": null,
   "source": [
    "d = Demo()\n",
    "d.one, d.two, d.__dict__"
   ],
   "outputs": [
    {
     "output_type": "stream",
     "name": "stdout",
     "text": [
      "setting attribute one\n",
      "setting attribute two\n"
     ]
    },
    {
     "output_type": "execute_result",
     "data": {
      "text/plain": [
       "(1, 2, {'one': 1, 'two': 2, 'readonly': 'do not change'})"
      ]
     },
     "metadata": {},
     "execution_count": 65
    }
   ],
   "metadata": {}
  },
  {
   "cell_type": "code",
   "execution_count": null,
   "source": [
    "d.readonly"
   ],
   "outputs": [
    {
     "output_type": "execute_result",
     "data": {
      "text/plain": [
       "'do not change'"
      ]
     },
     "metadata": {},
     "execution_count": 66
    }
   ],
   "metadata": {}
  },
  {
   "cell_type": "code",
   "execution_count": null,
   "source": [
    "d.readonly = 1"
   ],
   "outputs": [
    {
     "output_type": "stream",
     "name": "stdout",
     "text": [
      "setting attribute readonly\n",
      "nyah!\n"
     ]
    }
   ],
   "metadata": {}
  },
  {
   "cell_type": "code",
   "execution_count": null,
   "source": [
    "d.readonly"
   ],
   "outputs": [
    {
     "output_type": "execute_result",
     "data": {
      "text/plain": [
       "'do not change'"
      ]
     },
     "metadata": {},
     "execution_count": 68
    }
   ],
   "metadata": {}
  },
  {
   "cell_type": "code",
   "execution_count": null,
   "source": [
    "d.foo"
   ],
   "outputs": [
    {
     "output_type": "execute_result",
     "data": {
      "text/plain": [
       "'whoop!'"
      ]
     },
     "metadata": {},
     "execution_count": 70
    }
   ],
   "metadata": {}
  },
  {
   "cell_type": "markdown",
   "source": [
    "## Lab: \\_\\_getattr__ and \\_\\_setattr__ \n",
    "* create an object which holds a value and has a \"modification\" counter which keeps track of how many times the object has been modified\n",
    "* for example, the value could be in an attribute called __`value`__, so you'll want to notice when you make changes to __`value`__ and increment the counter\n",
    "* if you allow modifications to other attributes, you won't increment the counter\n",
    "* consider rejecting attempts to modify the __`counter`__ attribute directly\n",
    "* you will need to use __`super()`__, Python's way to call a method in the parent (superclass) in order to actually modify the attribute...why?"
   ],
   "metadata": {}
  },
  {
   "cell_type": "code",
   "execution_count": null,
   "source": [
    "class ConstantBlock:\n",
    "    \"\"\"\n",
    "    A simple object that lets you set its attributes ONCE.\n",
    "    Any further attempt to set an attribute results in a\n",
    "    RuntimeError exception.\n",
    "    \"\"\"\n",
    "\n",
    "    def __setattr__(self, name, value):\n",
    "        if name in self.__dict__:\n",
    "            raise RuntimeError(\"Can't set constant!\")\n",
    "        else:\n",
    "            super().__setattr__(name, value)\n",
    "\n",
    "    def __delattr__(self, attr):\n",
    "        raise RuntimeError(\"Can't delete constant\")"
   ],
   "outputs": [],
   "metadata": {}
  },
  {
   "cell_type": "code",
   "execution_count": null,
   "source": [
    "my_constants = ConstantBlock()\n",
    "my_constants.IP_ADDRESS = '127.0.0.1'\n",
    "my_constants.FOO = 'bar'"
   ],
   "outputs": [],
   "metadata": {}
  },
  {
   "cell_type": "code",
   "execution_count": null,
   "source": [
    "my_constants.__dict__"
   ],
   "outputs": [
    {
     "output_type": "execute_result",
     "data": {
      "text/plain": [
       "{'IP_ADDRESS': '127.0.0.1', 'FOO': 'bar'}"
      ]
     },
     "metadata": {},
     "execution_count": 75
    }
   ],
   "metadata": {}
  },
  {
   "cell_type": "code",
   "execution_count": null,
   "source": [
    "my_constants.FOO = 'salesforce'"
   ],
   "outputs": [
    {
     "output_type": "error",
     "ename": "RuntimeError",
     "evalue": "Can't set constant!",
     "traceback": [
      "\u001b[0;31m---------------------------------------------------------------------------\u001b[0m",
      "\u001b[0;31mRuntimeError\u001b[0m                              Traceback (most recent call last)",
      "\u001b[0;32m<ipython-input-76-0e935da63fd5>\u001b[0m in \u001b[0;36m<module>\u001b[0;34m\u001b[0m\n\u001b[0;32m----> 1\u001b[0;31m \u001b[0mmy_constants\u001b[0m\u001b[0;34m.\u001b[0m\u001b[0mFOO\u001b[0m \u001b[0;34m=\u001b[0m \u001b[0;34m'salesforce'\u001b[0m\u001b[0;34m\u001b[0m\u001b[0;34m\u001b[0m\u001b[0m\n\u001b[0m",
      "\u001b[0;32m<ipython-input-71-9000ca5590bb>\u001b[0m in \u001b[0;36m__setattr__\u001b[0;34m(self, name, value)\u001b[0m\n\u001b[1;32m      8\u001b[0m     \u001b[0;32mdef\u001b[0m \u001b[0m__setattr__\u001b[0m\u001b[0;34m(\u001b[0m\u001b[0mself\u001b[0m\u001b[0;34m,\u001b[0m \u001b[0mname\u001b[0m\u001b[0;34m,\u001b[0m \u001b[0mvalue\u001b[0m\u001b[0;34m)\u001b[0m\u001b[0;34m:\u001b[0m\u001b[0;34m\u001b[0m\u001b[0;34m\u001b[0m\u001b[0m\n\u001b[1;32m      9\u001b[0m         \u001b[0;32mif\u001b[0m \u001b[0mname\u001b[0m \u001b[0;32min\u001b[0m \u001b[0mself\u001b[0m\u001b[0;34m.\u001b[0m\u001b[0m__dict__\u001b[0m\u001b[0;34m:\u001b[0m\u001b[0;34m\u001b[0m\u001b[0;34m\u001b[0m\u001b[0m\n\u001b[0;32m---> 10\u001b[0;31m             \u001b[0;32mraise\u001b[0m \u001b[0mRuntimeError\u001b[0m\u001b[0;34m(\u001b[0m\u001b[0;34m\"Can't set constant!\"\u001b[0m\u001b[0;34m)\u001b[0m\u001b[0;34m\u001b[0m\u001b[0;34m\u001b[0m\u001b[0m\n\u001b[0m\u001b[1;32m     11\u001b[0m         \u001b[0;32melse\u001b[0m\u001b[0;34m:\u001b[0m\u001b[0;34m\u001b[0m\u001b[0;34m\u001b[0m\u001b[0m\n\u001b[1;32m     12\u001b[0m             \u001b[0msuper\u001b[0m\u001b[0;34m(\u001b[0m\u001b[0;34m)\u001b[0m\u001b[0;34m.\u001b[0m\u001b[0m__setattr__\u001b[0m\u001b[0;34m(\u001b[0m\u001b[0mname\u001b[0m\u001b[0;34m,\u001b[0m \u001b[0mvalue\u001b[0m\u001b[0;34m)\u001b[0m\u001b[0;34m\u001b[0m\u001b[0;34m\u001b[0m\u001b[0m\n",
      "\u001b[0;31mRuntimeError\u001b[0m: Can't set constant!"
     ]
    }
   ],
   "metadata": {}
  },
  {
   "cell_type": "code",
   "execution_count": null,
   "source": [
    "del my_constants.FOO"
   ],
   "outputs": [
    {
     "output_type": "error",
     "ename": "RuntimeError",
     "evalue": "Can't delete constant",
     "traceback": [
      "\u001b[0;31m---------------------------------------------------------------------------\u001b[0m",
      "\u001b[0;31mRuntimeError\u001b[0m                              Traceback (most recent call last)",
      "\u001b[0;32m<ipython-input-77-154236cc7683>\u001b[0m in \u001b[0;36m<module>\u001b[0;34m\u001b[0m\n\u001b[0;32m----> 1\u001b[0;31m \u001b[0;32mdel\u001b[0m \u001b[0mmy_constants\u001b[0m\u001b[0;34m.\u001b[0m\u001b[0mFOO\u001b[0m\u001b[0;34m\u001b[0m\u001b[0;34m\u001b[0m\u001b[0m\n\u001b[0m",
      "\u001b[0;32m<ipython-input-71-9000ca5590bb>\u001b[0m in \u001b[0;36m__delattr__\u001b[0;34m(self, attr)\u001b[0m\n\u001b[1;32m     13\u001b[0m \u001b[0;34m\u001b[0m\u001b[0m\n\u001b[1;32m     14\u001b[0m     \u001b[0;32mdef\u001b[0m \u001b[0m__delattr__\u001b[0m\u001b[0;34m(\u001b[0m\u001b[0mself\u001b[0m\u001b[0;34m,\u001b[0m \u001b[0mattr\u001b[0m\u001b[0;34m)\u001b[0m\u001b[0;34m:\u001b[0m\u001b[0;34m\u001b[0m\u001b[0;34m\u001b[0m\u001b[0m\n\u001b[0;32m---> 15\u001b[0;31m         \u001b[0;32mraise\u001b[0m \u001b[0mRuntimeError\u001b[0m\u001b[0;34m(\u001b[0m\u001b[0;34m\"Can't delete constant\"\u001b[0m\u001b[0;34m)\u001b[0m\u001b[0;34m\u001b[0m\u001b[0;34m\u001b[0m\u001b[0m\n\u001b[0m",
      "\u001b[0;31mRuntimeError\u001b[0m: Can't delete constant"
     ]
    }
   ],
   "metadata": {}
  }
 ],
 "metadata": {
  "celltoolbar": "Slideshow",
  "interpreter": {
   "hash": "8464311b6cd02531cc83d752491de256d0b522e7c388c7b72d58a29deff5d2dd"
  },
  "kernelspec": {
   "name": "python3",
   "display_name": "Python 3.8.10 64-bit ('py-yield-Jt80a98q': venv)"
  },
  "language_info": {
   "codemirror_mode": {
    "name": "ipython",
    "version": 3
   },
   "file_extension": ".py",
   "mimetype": "text/x-python",
   "name": "python",
   "nbconvert_exporter": "python",
   "pygments_lexer": "ipython3",
   "version": "3.8.10"
  }
 },
 "nbformat": 4,
 "nbformat_minor": 1
}